{
 "cells": [
  {
   "cell_type": "code",
   "execution_count": 2,
   "id": "10009ed0",
   "metadata": {
    "scrolled": false
   },
   "outputs": [
    {
     "name": "stdout",
     "output_type": "stream",
     "text": [
      "enter number1 = 9\n",
      "enter number2 = 6\n",
      "enter the c = -\n",
      "3\n",
      "-3\n"
     ]
    }
   ],
   "source": [
    "x=int(input(\"enter number1 = \"))\n",
    "y=int (input (\"enter number2 = \"))\n",
    "z=(input (\"enter the c = \"))\n",
    "if z== \"+\":\n",
    "    print(x+y)\n",
    "    print (y+x)\n",
    "elif z==\"-\":\n",
    "    print (x-y)\n",
    "    print (y-x)\n",
    "elif z== \"*\":\n",
    "    print(x*y)\n",
    "    print(y*x)\n",
    "elif z== \"/\":\n",
    "    print (x/y)\n",
    "    print (y/x)\n",
    "elif z==\"//\":\n",
    "    print (x//y)\n",
    "    print (y//x)\n",
    "elif z== \"**\":\n",
    "    print (x**y)\n",
    "    print (y**x)\n",
    "elif z== \"<\":\n",
    "    print (x<y)\n",
    "elif z== \">\":\n",
    "    print (x>y)\n",
    "elif z== \"=\":\n",
    "    print (x=y)\n",
    "else:\n",
    "    print(error)"
   ]
  },
  {
   "cell_type": "code",
   "execution_count": 2,
   "id": "e1a698c8",
   "metadata": {},
   "outputs": [
    {
     "name": "stdout",
     "output_type": "stream",
     "text": [
      "enter your name مصطفى\n",
      "hello مصطفى\n"
     ]
    }
   ],
   "source": [
    "name= (input (\"enter your name \"))\n",
    "print (\"hello\", name)"
   ]
  },
  {
   "cell_type": "code",
   "execution_count": 1,
   "id": "457b3d26",
   "metadata": {},
   "outputs": [
    {
     "name": "stdout",
     "output_type": "stream",
     "text": [
      "enter number 1 10\n",
      "enter number 2 20\n",
      "enter number 3 30\n",
      "the average of the three numbers is: 20.0\n"
     ]
    }
   ],
   "source": [
    "num1=int (input (\"enter number 1 \"))\n",
    "num2= int (input (\"enter number 2 \"))\n",
    "num3= int (input (\"enter number 3 \"))\n",
    "average = (num1 +num2 +num3) / 3\n",
    "print(\"the average of the three numbers is:\", average)"
   ]
  },
  {
   "cell_type": "code",
   "execution_count": 1,
   "id": "d53fa3d8",
   "metadata": {},
   "outputs": [
    {
     "name": "stdout",
     "output_type": "stream",
     "text": [
      "Enter a number: 10\n",
      "10 is an even number\n"
     ]
    }
   ],
   "source": [
    "number = int(input(\"Enter a number: \"))\n",
    "\n",
    "if number % 2 == 0:\n",
    "    print(number, \"is an even number\")\n",
    "else:\n",
    "    print(number, \"is an odd number\")\n"
   ]
  },
  {
   "cell_type": "code",
   "execution_count": 2,
   "id": "94edcb1a",
   "metadata": {},
   "outputs": [
    {
     "name": "stdout",
     "output_type": "stream",
     "text": [
      "Enter a number: 20\n",
      "20 is a positive number\n"
     ]
    }
   ],
   "source": [
    "number = int(input(\"Enter a number: \"))\n",
    "\n",
    "if number > 0:\n",
    "    print(number, \"is a positive number\")\n",
    "elif number < 0:\n",
    "    print(number, \"is a negative number\")\n",
    "else:\n",
    "    print(number, \"is zero\")\n"
   ]
  },
  {
   "cell_type": "code",
   "execution_count": 4,
   "id": "e1da7ea2",
   "metadata": {},
   "outputs": [
    {
     "name": "stdout",
     "output_type": "stream",
     "text": [
      "Enter a temperature: 30\n",
      "Enter C for Celsius to Fahrenheit or F for Fahrenheit to Celsius: c\n",
      "30.0°C is equal to 86.00°F\n"
     ]
    }
   ],
   "source": [
    "def celsius_to_fahrenheit(celsius):\n",
    "    fahrenheit = (celsius * 9/5) + 32\n",
    "    return fahrenheit\n",
    "\n",
    "def fahrenheit_to_celsius(fahrenheit):\n",
    "    celsius = (fahrenheit - 32) * 5/9\n",
    "    return celsius\n",
    "\n",
    "temperature = float(input(\"Enter a temperature: \"))\n",
    "conversion_type = input(\"Enter C for Celsius to Fahrenheit or F for Fahrenheit to Celsius: \").upper()\n",
    "\n",
    "if conversion_type == \"C\":\n",
    "    fahrenheit = celsius_to_fahrenheit(temperature)\n",
    "    print(f\"{temperature}°C is equal to {fahrenheit:.2f}°F\")\n",
    "elif conversion_type == \"F\":\n",
    "    celsius = fahrenheit_to_celsius(temperature)\n",
    "    print(f\"{temperature}°F is equal to {celsius:.2f}°C\")\n",
    "else:\n",
    "    print(\"  يا غبي C او F.اكتب\")\n"
   ]
  },
  {
   "cell_type": "code",
   "execution_count": 2,
   "id": "523653e0",
   "metadata": {},
   "outputs": [
    {
     "name": "stdout",
     "output_type": "stream",
     "text": [
      "enter the currancy USD\n",
      "enter the currancy you need to convert toEGP\n",
      "enter the amount of money2\n",
      "61.8\n"
     ]
    }
   ],
   "source": [
    "x1= input (\"enter the currancy \")\n",
    "x2= input (\"enter the currancy you need to convert to\")\n",
    "amount= int (input (\"enter the amount of money\"))\n",
    "\n",
    "if x1==(\"USD\"):\n",
    "    z=amount*30.90\n",
    "    print (z)\n",
    "elif x1==(\"SEK\"):\n",
    "    z=amount/0.34\n",
    "    print (z)\n",
    "elif x1==(\"MAD\"):\n",
    "    z=amount*1.0\n",
    "    print (z)\n",
    "else:\n",
    "    print(\"uncorect\")"
   ]
  },
  {
   "cell_type": "code",
   "execution_count": null,
   "id": "61a9627f",
   "metadata": {},
   "outputs": [],
   "source": []
  }
 ],
 "metadata": {
  "kernelspec": {
   "display_name": "Python 3 (ipykernel)",
   "language": "python",
   "name": "python3"
  },
  "language_info": {
   "codemirror_mode": {
    "name": "ipython",
    "version": 3
   },
   "file_extension": ".py",
   "mimetype": "text/x-python",
   "name": "python",
   "nbconvert_exporter": "python",
   "pygments_lexer": "ipython3",
   "version": "3.11.5"
  }
 },
 "nbformat": 4,
 "nbformat_minor": 5
}
